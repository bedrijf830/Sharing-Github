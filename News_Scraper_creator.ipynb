{
 "cells": [
  {
   "cell_type": "code",
   "execution_count": 1,
   "metadata": {},
   "outputs": [],
   "source": [
    "import pandas as pd\n",
    "import feedparser\n",
    "import nltk\n",
    "import warnings\n",
    "from datetime import datetime\n",
    "from pathlib import Path\n",
    "warnings.filterwarnings('ignore')\n",
    "from nltk.sentiment.vader import SentimentIntensityAnalyzer\n",
    "#nltk.download('vader_lexicon')\n",
    "from googletrans import Translator\n",
    "translator = Translator()\n",
    "#bedrijf830@gmail.com\n",
    "#Kom je nog?\n",
    "\n",
    "import csv"
   ]
  },
  {
   "cell_type": "code",
   "execution_count": 4,
   "metadata": {},
   "outputs": [],
   "source": [
    "sia = SentimentIntensityAnalyzer()\n",
    "\n",
    "import csv\n",
    "\n",
    "# stock market lexicon\n",
    "stock_lex = pd.read_csv('lexicon_data/stock_lex.csv')\n",
    "stock_lex['sentiment'] = (stock_lex['Aff_Score'] + stock_lex['Neg_Score'])/2\n",
    "stock_lex = dict(zip(stock_lex.Item, stock_lex.sentiment))\n",
    "stock_lex = {k:v for k,v in stock_lex.items() if len(k.split(' '))==1}\n",
    "\n",
    "stock_lex_scaled = {}\n",
    "for k, v in stock_lex.items():\n",
    "    if v > 0:\n",
    "        stock_lex_scaled[k] = v / max(stock_lex.values()) * 4\n",
    "    else:\n",
    "        stock_lex_scaled[k] = v / min(stock_lex.values()) * -4\n",
    "\n",
    "# Loughran and McDonald\n",
    "positive = []\n",
    "with open('lexicon_data/lm_positive.csv', 'r') as f:\n",
    "    reader = csv.reader(f)\n",
    "    for row in reader:\n",
    "        positive.append(row[0].strip())\n",
    "    \n",
    "negative = []\n",
    "with open('lexicon_data/lm_negative.csv', 'r') as f:\n",
    "    reader = csv.reader(f)\n",
    "    for row in reader:\n",
    "        entry = row[0].strip().split(\" \")\n",
    "        if len(entry) > 1:\n",
    "            negative.extend(entry)\n",
    "        else:\n",
    "            negative.append(entry[0])\n",
    "            \n",
    "final_lex = {}\n",
    "final_lex.update({word:2.0 for word in positive})\n",
    "final_lex.update({word:-2.0 for word in negative})\n",
    "final_lex.update(stock_lex_scaled)\n",
    "final_lex.update(sia.lexicon)\n",
    "sia.lexicon = final_lex"
   ]
  },
  {
   "cell_type": "code",
   "execution_count": 26,
   "metadata": {},
   "outputs": [],
   "source": [
    "df = pd.read_csv('export_dataframe.csv')"
   ]
  },
  {
   "cell_type": "code",
   "execution_count": 27,
   "metadata": {},
   "outputs": [
    {
     "data": {
      "text/html": [
       "<div>\n",
       "<style scoped>\n",
       "    .dataframe tbody tr th:only-of-type {\n",
       "        vertical-align: middle;\n",
       "    }\n",
       "\n",
       "    .dataframe tbody tr th {\n",
       "        vertical-align: top;\n",
       "    }\n",
       "\n",
       "    .dataframe thead th {\n",
       "        text-align: right;\n",
       "    }\n",
       "</style>\n",
       "<table border=\"1\" class=\"dataframe\">\n",
       "  <thead>\n",
       "    <tr style=\"text-align: right;\">\n",
       "      <th></th>\n",
       "      <th>Company</th>\n",
       "      <th>Article</th>\n",
       "      <th>Translation</th>\n",
       "      <th>Date</th>\n",
       "      <th>Negative</th>\n",
       "      <th>Neutral</th>\n",
       "      <th>Positive</th>\n",
       "      <th>Compound</th>\n",
       "    </tr>\n",
       "  </thead>\n",
       "  <tbody>\n",
       "    <tr>\n",
       "      <td>0</td>\n",
       "      <td>Shell</td>\n",
       "      <td>Deze week begon er de aanleg van het zonnepark...</td>\n",
       "      <td>This week began the construction of the solar ...</td>\n",
       "      <td>27 May 2020 21:18:25 GMT</td>\n",
       "      <td>0.462</td>\n",
       "      <td>0.217</td>\n",
       "      <td>0.321</td>\n",
       "      <td>0.4804</td>\n",
       "    </tr>\n",
       "    <tr>\n",
       "      <td>1</td>\n",
       "      <td>Shell</td>\n",
       "      <td>Royal Dutch Shell (RDS) deint niet mee op de h...</td>\n",
       "      <td>Royal Dutch Shell (RDS) sways not count on rec...</td>\n",
       "      <td>27 May 2020 21:18:25 GMT</td>\n",
       "      <td>0.407</td>\n",
       "      <td>0.304</td>\n",
       "      <td>0.289</td>\n",
       "      <td>-0.0296</td>\n",
       "    </tr>\n",
       "    <tr>\n",
       "      <td>2</td>\n",
       "      <td>Shell</td>\n",
       "      <td>Shell wil meer geld voor stopzetten Groningen....</td>\n",
       "      <td>Shell wants more money to stop Groningen. The ...</td>\n",
       "      <td>27 May 2020 21:18:25 GMT</td>\n",
       "      <td>0.491</td>\n",
       "      <td>0.225</td>\n",
       "      <td>0.284</td>\n",
       "      <td>-0.5449</td>\n",
       "    </tr>\n",
       "    <tr>\n",
       "      <td>3</td>\n",
       "      <td>Shell</td>\n",
       "      <td>Het gaat om Royal Dutch Shell (-0,6%), ASML (-...</td>\n",
       "      <td>It is Royal Dutch Shell (-0.6%), ASML (-0.6%),...</td>\n",
       "      <td>27 May 2020 21:18:25 GMT</td>\n",
       "      <td>0.194</td>\n",
       "      <td>0.479</td>\n",
       "      <td>0.328</td>\n",
       "      <td>0.4459</td>\n",
       "    </tr>\n",
       "    <tr>\n",
       "      <td>4</td>\n",
       "      <td>Shell</td>\n",
       "      <td>Daarin is afgesproken dat Shell en ExxonMobil ...</td>\n",
       "      <td>It was agreed that Shell and ExxonMobil would ...</td>\n",
       "      <td>27 May 2020 21:18:25 GMT</td>\n",
       "      <td>0.224</td>\n",
       "      <td>0.283</td>\n",
       "      <td>0.493</td>\n",
       "      <td>0.5648</td>\n",
       "    </tr>\n",
       "  </tbody>\n",
       "</table>\n",
       "</div>"
      ],
      "text/plain": [
       "  Company                                            Article  \\\n",
       "0   Shell  Deze week begon er de aanleg van het zonnepark...   \n",
       "1   Shell  Royal Dutch Shell (RDS) deint niet mee op de h...   \n",
       "2   Shell  Shell wil meer geld voor stopzetten Groningen....   \n",
       "3   Shell  Het gaat om Royal Dutch Shell (-0,6%), ASML (-...   \n",
       "4   Shell  Daarin is afgesproken dat Shell en ExxonMobil ...   \n",
       "\n",
       "                                         Translation  \\\n",
       "0  This week began the construction of the solar ...   \n",
       "1  Royal Dutch Shell (RDS) sways not count on rec...   \n",
       "2  Shell wants more money to stop Groningen. The ...   \n",
       "3  It is Royal Dutch Shell (-0.6%), ASML (-0.6%),...   \n",
       "4  It was agreed that Shell and ExxonMobil would ...   \n",
       "\n",
       "                       Date  Negative  Neutral  Positive  Compound  \n",
       "0  27 May 2020 21:18:25 GMT     0.462    0.217     0.321    0.4804  \n",
       "1  27 May 2020 21:18:25 GMT     0.407    0.304     0.289   -0.0296  \n",
       "2  27 May 2020 21:18:25 GMT     0.491    0.225     0.284   -0.5449  \n",
       "3  27 May 2020 21:18:25 GMT     0.194    0.479     0.328    0.4459  \n",
       "4  27 May 2020 21:18:25 GMT     0.224    0.283     0.493    0.5648  "
      ]
     },
     "execution_count": 27,
     "metadata": {},
     "output_type": "execute_result"
    }
   ],
   "source": [
    "df.head()"
   ]
  },
  {
   "cell_type": "code",
   "execution_count": 5,
   "metadata": {},
   "outputs": [],
   "source": [
    "from bs4 import BeautifulSoup\n",
    "shell = feedparser.parse(\"https://www.google.com/alerts/feeds/11557311996690746829/885257184118668742\")"
   ]
  },
  {
   "cell_type": "code",
   "execution_count": 19,
   "metadata": {},
   "outputs": [],
   "source": [
    "a = []\n",
    "b = []\n",
    "c = []\n",
    "d = []\n",
    "e = []\n",
    "f = []\n",
    "g = []\n",
    "for item in shell['items']:\n",
    "    html = item['summary']\n",
    "    soup = BeautifulSoup(html)\n",
    "    text_parts = soup.findAll(text=True)\n",
    "    text = ''.join(text_parts)\n",
    "    translation = translator.translate(text)\n",
    "    sentiment = sia.polarity_scores(translation.text)\n",
    "    a.append(text)\n",
    "    b.append(translation.text)\n",
    "    c.append(shell['headers']['Date'][5:])\n",
    "    d.append(sentiment['neg'])\n",
    "    e.append(sentiment['neu'])\n",
    "    f.append(sentiment['pos'])\n",
    "    g.append(sentiment['compound'])"
   ]
  },
  {
   "cell_type": "code",
   "execution_count": 20,
   "metadata": {},
   "outputs": [
    {
     "data": {
      "text/plain": [
       "0.224"
      ]
     },
     "execution_count": 20,
     "metadata": {},
     "output_type": "execute_result"
    }
   ],
   "source": [
    "sia.polarity_scores(translation.text)['neg']"
   ]
  },
  {
   "cell_type": "code",
   "execution_count": 21,
   "metadata": {},
   "outputs": [],
   "source": [
    "z = {'Article':a,'Translation':b,'Date':c,'Negative':d,'Neutral':e,'Positive':f,'Compound':d}\n",
    "df= pd.DataFrame(z)"
   ]
  },
  {
   "cell_type": "code",
   "execution_count": 22,
   "metadata": {},
   "outputs": [
    {
     "data": {
      "text/html": [
       "<div>\n",
       "<style scoped>\n",
       "    .dataframe tbody tr th:only-of-type {\n",
       "        vertical-align: middle;\n",
       "    }\n",
       "\n",
       "    .dataframe tbody tr th {\n",
       "        vertical-align: top;\n",
       "    }\n",
       "\n",
       "    .dataframe thead th {\n",
       "        text-align: right;\n",
       "    }\n",
       "</style>\n",
       "<table border=\"1\" class=\"dataframe\">\n",
       "  <thead>\n",
       "    <tr style=\"text-align: right;\">\n",
       "      <th></th>\n",
       "      <th>Article</th>\n",
       "      <th>Translation</th>\n",
       "      <th>Date</th>\n",
       "      <th>Negative</th>\n",
       "      <th>Neutral</th>\n",
       "      <th>Positive</th>\n",
       "      <th>Compound</th>\n",
       "    </tr>\n",
       "  </thead>\n",
       "  <tbody>\n",
       "    <tr>\n",
       "      <td>0</td>\n",
       "      <td>Deze week begon er de aanleg van het zonnepark...</td>\n",
       "      <td>This week began the construction of the solar ...</td>\n",
       "      <td>27 May 2020 20:43:49 GMT</td>\n",
       "      <td>0.462</td>\n",
       "      <td>0.217</td>\n",
       "      <td>0.321</td>\n",
       "      <td>0.462</td>\n",
       "    </tr>\n",
       "    <tr>\n",
       "      <td>1</td>\n",
       "      <td>Royal Dutch Shell (RDS) deint niet mee op de h...</td>\n",
       "      <td>Royal Dutch Shell (RDS) sways not count on rec...</td>\n",
       "      <td>27 May 2020 20:43:49 GMT</td>\n",
       "      <td>0.407</td>\n",
       "      <td>0.304</td>\n",
       "      <td>0.289</td>\n",
       "      <td>0.407</td>\n",
       "    </tr>\n",
       "    <tr>\n",
       "      <td>2</td>\n",
       "      <td>Shell wil meer geld voor stopzetten Groningen....</td>\n",
       "      <td>Shell wants more money to stop Groningen. The ...</td>\n",
       "      <td>27 May 2020 20:43:49 GMT</td>\n",
       "      <td>0.491</td>\n",
       "      <td>0.225</td>\n",
       "      <td>0.284</td>\n",
       "      <td>0.491</td>\n",
       "    </tr>\n",
       "    <tr>\n",
       "      <td>3</td>\n",
       "      <td>Het gaat om Royal Dutch Shell (-0,6%), ASML (-...</td>\n",
       "      <td>It is Royal Dutch Shell (-0.6%), ASML (-0.6%),...</td>\n",
       "      <td>27 May 2020 20:43:49 GMT</td>\n",
       "      <td>0.194</td>\n",
       "      <td>0.479</td>\n",
       "      <td>0.328</td>\n",
       "      <td>0.194</td>\n",
       "    </tr>\n",
       "    <tr>\n",
       "      <td>4</td>\n",
       "      <td>Daarin is afgesproken dat Shell en ExxonMobil ...</td>\n",
       "      <td>It was agreed that Shell and ExxonMobil would ...</td>\n",
       "      <td>27 May 2020 20:43:49 GMT</td>\n",
       "      <td>0.224</td>\n",
       "      <td>0.283</td>\n",
       "      <td>0.493</td>\n",
       "      <td>0.224</td>\n",
       "    </tr>\n",
       "  </tbody>\n",
       "</table>\n",
       "</div>"
      ],
      "text/plain": [
       "                                             Article  \\\n",
       "0  Deze week begon er de aanleg van het zonnepark...   \n",
       "1  Royal Dutch Shell (RDS) deint niet mee op de h...   \n",
       "2  Shell wil meer geld voor stopzetten Groningen....   \n",
       "3  Het gaat om Royal Dutch Shell (-0,6%), ASML (-...   \n",
       "4  Daarin is afgesproken dat Shell en ExxonMobil ...   \n",
       "\n",
       "                                         Translation  \\\n",
       "0  This week began the construction of the solar ...   \n",
       "1  Royal Dutch Shell (RDS) sways not count on rec...   \n",
       "2  Shell wants more money to stop Groningen. The ...   \n",
       "3  It is Royal Dutch Shell (-0.6%), ASML (-0.6%),...   \n",
       "4  It was agreed that Shell and ExxonMobil would ...   \n",
       "\n",
       "                       Date  Negative  Neutral  Positive  Compound  \n",
       "0  27 May 2020 20:43:49 GMT     0.462    0.217     0.321     0.462  \n",
       "1  27 May 2020 20:43:49 GMT     0.407    0.304     0.289     0.407  \n",
       "2  27 May 2020 20:43:49 GMT     0.491    0.225     0.284     0.491  \n",
       "3  27 May 2020 20:43:49 GMT     0.194    0.479     0.328     0.194  \n",
       "4  27 May 2020 20:43:49 GMT     0.224    0.283     0.493     0.224  "
      ]
     },
     "execution_count": 22,
     "metadata": {},
     "output_type": "execute_result"
    }
   ],
   "source": [
    "df.head()"
   ]
  },
  {
   "cell_type": "code",
   "execution_count": 23,
   "metadata": {},
   "outputs": [],
   "source": [
    "df.to_csv(r'export_dataframe.csv', index = False, header=True)\n"
   ]
  },
  {
   "cell_type": "code",
   "execution_count": 64,
   "metadata": {},
   "outputs": [
    {
     "name": "stdout",
     "output_type": "stream",
     "text": [
      "It was agreed that Shell and ExxonMobil would receive 90 million euros in compensation. Last week the Court ruled yet ...\n"
     ]
    }
   ],
   "source": [
    "from googletrans import Translator\n",
    "translator = Translator()\n",
    "translation = translator.translate(text)\n",
    "print(translation.text)"
   ]
  },
  {
   "cell_type": "code",
   "execution_count": 61,
   "metadata": {},
   "outputs": [
    {
     "data": {
      "text/plain": [
       "'Daarin is afgesproken dat Shell en ExxonMobil 90 miljoen euro zouden krijgen ter compensatie. Vorige week oordeelde de Algemene Rekenkamer nog\\xa0...'"
      ]
     },
     "execution_count": 61,
     "metadata": {},
     "output_type": "execute_result"
    }
   ],
   "source": [
    "text"
   ]
  },
  {
   "cell_type": "code",
   "execution_count": 7,
   "metadata": {},
   "outputs": [
    {
     "name": "stdout",
     "output_type": "stream",
     "text": [
      "27 May 2020 18:31:08\n"
     ]
    }
   ],
   "source": [
    "print(shell['headers']['Date'][5:].replace(' GMT',''))"
   ]
  },
  {
   "cell_type": "code",
   "execution_count": 17,
   "metadata": {},
   "outputs": [
    {
     "data": {
      "text/plain": [
       "['This week began the construction of the solar park Shell. The reconstruction of the site of the former gas purification (GZI) in Emmen ...',\n",
       " 'Royal Dutch Shell (RDS) sways not count on recovering oil. Flag formation suggests verkoopruk at the Blue Chip. The price of a barrel ...',\n",
       " 'Shell wants more money to stop Groningen. The compensation for the discontinuation of the gas creates dissatisfaction with Shell and ...',\n",
       " 'It is Royal Dutch Shell (-0.6%), ASML (-0.6%), Unilever (-1.1%), relx (-1.0%) and DSM (-1.9%). The struggle for a working coronavirus vaccine. That we ...',\n",
       " 'It was agreed that Shell and ExxonMobil would receive 90 million euros in compensation. Last week the Court ruled yet ...']"
      ]
     },
     "execution_count": 17,
     "metadata": {},
     "output_type": "execute_result"
    }
   ],
   "source": [
    "b"
   ]
  },
  {
   "cell_type": "code",
   "execution_count": 169,
   "metadata": {},
   "outputs": [
    {
     "name": "stdout",
     "output_type": "stream",
     "text": [
      "{'neg': 0.28, 'neu': 0.132, 'pos': 0.588, 'compound': 0.8096}\n"
     ]
    }
   ],
   "source": [
    "sentiment = sia.polarity_scores(b)\n",
    "print(sentiment)"
   ]
  },
  {
   "cell_type": "code",
   "execution_count": 171,
   "metadata": {},
   "outputs": [
    {
     "name": "stdout",
     "output_type": "stream",
     "text": [
      "0.588\n"
     ]
    }
   ],
   "source": [
    "print(sentiment['compound'])"
   ]
  },
  {
   "cell_type": "code",
   "execution_count": 174,
   "metadata": {},
   "outputs": [],
   "source": [
    "sentiment = sia.polarity_scores('chinese')"
   ]
  },
  {
   "cell_type": "code",
   "execution_count": 176,
   "metadata": {},
   "outputs": [
    {
     "name": "stdout",
     "output_type": "stream",
     "text": [
      "-0.0128\n"
     ]
    }
   ],
   "source": [
    "print(sentiment['compound'])"
   ]
  },
  {
   "cell_type": "code",
   "execution_count": null,
   "metadata": {},
   "outputs": [],
   "source": []
  }
 ],
 "metadata": {
  "kernelspec": {
   "display_name": "Python 3",
   "language": "python",
   "name": "python3"
  },
  "language_info": {
   "codemirror_mode": {
    "name": "ipython",
    "version": 3
   },
   "file_extension": ".py",
   "mimetype": "text/x-python",
   "name": "python",
   "nbconvert_exporter": "python",
   "pygments_lexer": "ipython3",
   "version": "3.7.4"
  }
 },
 "nbformat": 4,
 "nbformat_minor": 2
}
